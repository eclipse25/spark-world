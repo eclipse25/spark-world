{
 "cells": [
  {
   "cell_type": "code",
   "execution_count": 1,
   "metadata": {},
   "outputs": [
    {
     "data": {
      "text/html": [
       "\n",
       "            <div>\n",
       "                <p><b>SparkSession - in-memory</b></p>\n",
       "                \n",
       "        <div>\n",
       "            <p><b>SparkContext</b></p>\n",
       "\n",
       "            <p><a href=\"http://41454abab6db:4040\">Spark UI</a></p>\n",
       "\n",
       "            <dl>\n",
       "              <dt>Version</dt>\n",
       "                <dd><code>v3.5.0</code></dd>\n",
       "              <dt>Master</dt>\n",
       "                <dd><code>local[*]</code></dd>\n",
       "              <dt>AppName</dt>\n",
       "                <dd><code>ChurnEDA</code></dd>\n",
       "            </dl>\n",
       "        </div>\n",
       "        \n",
       "            </div>\n",
       "        "
      ],
      "text/plain": [
       "<pyspark.sql.session.SparkSession at 0xffff7b5c7ed0>"
      ]
     },
     "execution_count": 1,
     "metadata": {},
     "output_type": "execute_result"
    }
   ],
   "source": [
    "from pyspark.sql import SparkSession\n",
    "\n",
    "spark = SparkSession.builder \\\n",
    "    .appName(\"ChurnEDA\") \\\n",
    "    .getOrCreate()\n",
    "\n",
    "spark"
   ]
  },
  {
   "cell_type": "code",
   "execution_count": 2,
   "metadata": {},
   "outputs": [
    {
     "name": "stdout",
     "output_type": "stream",
     "text": [
      "root\n",
      " |-- customerID: string (nullable = true)\n",
      " |-- gender: string (nullable = true)\n",
      " |-- SeniorCitizen: integer (nullable = true)\n",
      " |-- Partner: string (nullable = true)\n",
      " |-- Dependents: string (nullable = true)\n",
      " |-- tenure: integer (nullable = true)\n",
      " |-- PhoneService: string (nullable = true)\n",
      " |-- MultipleLines: string (nullable = true)\n",
      " |-- InternetService: string (nullable = true)\n",
      " |-- OnlineSecurity: string (nullable = true)\n",
      " |-- OnlineBackup: string (nullable = true)\n",
      " |-- DeviceProtection: string (nullable = true)\n",
      " |-- TechSupport: string (nullable = true)\n",
      " |-- StreamingTV: string (nullable = true)\n",
      " |-- StreamingMovies: string (nullable = true)\n",
      " |-- Contract: string (nullable = true)\n",
      " |-- PaperlessBilling: string (nullable = true)\n",
      " |-- PaymentMethod: string (nullable = true)\n",
      " |-- MonthlyCharges: double (nullable = true)\n",
      " |-- TotalCharges: string (nullable = true)\n",
      " |-- Churn: string (nullable = true)\n",
      " |-- churn_rate: integer (nullable = true)\n",
      " |-- Churn Score: integer (nullable = true)\n",
      " |-- CLTV: integer (nullable = true)\n",
      " |-- Churn Reason: string (nullable = true)\n",
      " |-- Count: integer (nullable = true)\n",
      " |-- Country: string (nullable = true)\n",
      " |-- State: string (nullable = true)\n",
      " |-- City: string (nullable = true)\n",
      " |-- Zip Code: integer (nullable = true)\n",
      " |-- Lat Long: string (nullable = true)\n",
      " |-- Latitude: double (nullable = true)\n",
      " |-- Longitude: double (nullable = true)\n",
      " |-- Age: integer (nullable = true)\n",
      " |-- Under 30: string (nullable = true)\n",
      " |-- Married: string (nullable = true)\n",
      " |-- Referred a Friend: string (nullable = true)\n",
      " |-- Number of Referrals: integer (nullable = true)\n",
      " |-- Offer: string (nullable = true)\n",
      " |-- Avg Monthly Long Distance Charges: double (nullable = true)\n",
      " |-- Avg Monthly GB Download: integer (nullable = true)\n",
      " |-- Streaming Music: string (nullable = true)\n",
      " |-- Premium Tech Support: string (nullable = true)\n",
      " |-- Unlimited Data: string (nullable = true)\n",
      " |-- Total Refunds: double (nullable = true)\n",
      " |-- Total Extra Data Charges: integer (nullable = true)\n",
      " |-- Total Long Distance Charges: double (nullable = true)\n",
      " |-- Total Revenue: double (nullable = true)\n",
      " |-- Satisfaction Score: integer (nullable = true)\n",
      " |-- Customer Status: string (nullable = true)\n",
      " |-- Churn Score.1: integer (nullable = true)\n",
      " |-- Churn Category: string (nullable = true)\n",
      "\n",
      "+----------+------+-------------+-------+----------+------+------------+-------------+---------------+--------------+------------+----------------+-----------+-----------+---------------+--------------+----------------+--------------------+--------------+------------+-----+----------+-----------+----+--------------------+-----+-------------+----------+-----------+--------+--------------------+---------+-----------+---+--------+-------+-----------------+-------------------+-------+---------------------------------+-----------------------+---------------+--------------------+--------------+-------------+------------------------+---------------------------+------------------+------------------+---------------+-------------+--------------+\n",
      "|customerID|gender|SeniorCitizen|Partner|Dependents|tenure|PhoneService|MultipleLines|InternetService|OnlineSecurity|OnlineBackup|DeviceProtection|TechSupport|StreamingTV|StreamingMovies|      Contract|PaperlessBilling|       PaymentMethod|MonthlyCharges|TotalCharges|Churn|churn_rate|Churn Score|CLTV|        Churn Reason|Count|      Country|     State|       City|Zip Code|            Lat Long| Latitude|  Longitude|Age|Under 30|Married|Referred a Friend|Number of Referrals|  Offer|Avg Monthly Long Distance Charges|Avg Monthly GB Download|Streaming Music|Premium Tech Support|Unlimited Data|Total Refunds|Total Extra Data Charges|Total Long Distance Charges|     Total Revenue|Satisfaction Score|Customer Status|Churn Score.1|Churn Category|\n",
      "+----------+------+-------------+-------+----------+------+------------+-------------+---------------+--------------+------------+----------------+-----------+-----------+---------------+--------------+----------------+--------------------+--------------+------------+-----+----------+-----------+----+--------------------+-----+-------------+----------+-----------+--------+--------------------+---------+-----------+---+--------+-------+-----------------+-------------------+-------+---------------------------------+-----------------------+---------------+--------------------+--------------+-------------+------------------------+---------------------------+------------------+------------------+---------------+-------------+--------------+\n",
      "|3668-QPYBK|  Male|            0|     No|        No|     2|         Yes|           No|            DSL|           Yes|         Yes|              No|         No|         No|             No|Month-to-month|             Yes|        Mailed check|         53.85|      108.15|  Yes|         1|         86|3239|Competitor made b...|    1|United States|California|Los Angeles|   90003|33.964131, -118.2...|33.964131|-118.272783| 37|      No|     No|               No|                  0|   None|                            10.47|                     21|             No|                  No|           Yes|          0.0|                       0|                      20.94|            129.09|                 1|        Churned|           86|    Competitor|\n",
      "|9237-HQITU|Female|            0|     No|        No|     2|         Yes|           No|    Fiber optic|            No|          No|              No|         No|         No|             No|Month-to-month|             Yes|    Electronic check|          70.7|      151.65|  Yes|         1|         67|2701|               Moved|    1|United States|California|Los Angeles|   90005|34.059281, -118.3...|34.059281| -118.30742| 19|     Yes|     No|               No|                  0|   None|                             9.12|                     51|             No|                  No|           Yes|          0.0|                       0|                      18.24|169.89000000000001|                 2|        Churned|           67|         Other|\n",
      "|9305-CDSKC|Female|            0|     No|        No|     8|         Yes|          Yes|    Fiber optic|            No|          No|             Yes|         No|        Yes|            Yes|Month-to-month|             Yes|    Electronic check|         99.65|       820.5|  Yes|         1|         86|5372|               Moved|    1|United States|California|Los Angeles|   90006|34.048013, -118.2...|34.048013|-118.293953| 31|      No|     No|               No|                  0|   None|                            12.15|                     26|            Yes|                  No|           Yes|          0.0|                       0|                       97.2|             917.7|                 3|        Churned|           86|         Other|\n",
      "|7892-POOKP|Female|            0|    Yes|        No|    28|         Yes|          Yes|    Fiber optic|            No|          No|             Yes|        Yes|        Yes|            Yes|Month-to-month|             Yes|    Electronic check|         104.8|     3046.05|  Yes|         1|         84|5003|               Moved|    1|United States|California|Los Angeles|   90010|34.062125, -118.3...|34.062125|-118.315709| 23|     Yes|    Yes|               No|                  0|Offer C|                             4.89|                     47|            Yes|                 Yes|           Yes|          0.0|                       0|                     136.92|3182.9700000000003|                 3|        Churned|           84|         Other|\n",
      "|0280-XJGEX|  Male|            0|     No|        No|    49|         Yes|          Yes|    Fiber optic|            No|         Yes|             Yes|         No|        Yes|            Yes|Month-to-month|             Yes|Bank transfer (au...|         103.7|      5036.3|  Yes|         1|         89|5340|Competitor had be...|    1|United States|California|Los Angeles|   90015|34.039224, -118.2...|34.039224|-118.266293| 38|      No|     No|               No|                  0|   None|                            44.33|                     11|            Yes|                  No|           Yes|          0.0|                       0|                    2172.17|           7208.47|                 1|        Churned|           89|    Competitor|\n",
      "+----------+------+-------------+-------+----------+------+------------+-------------+---------------+--------------+------------+----------------+-----------+-----------+---------------+--------------+----------------+--------------------+--------------+------------+-----+----------+-----------+----+--------------------+-----+-------------+----------+-----------+--------+--------------------+---------+-----------+---+--------+-------+-----------------+-------------------+-------+---------------------------------+-----------------------+---------------+--------------------+--------------+-------------+------------------------+---------------------------+------------------+------------------+---------------+-------------+--------------+\n",
      "only showing top 5 rows\n",
      "\n"
     ]
    }
   ],
   "source": [
    "df = spark.read.csv(\"../data/Telco_customer_churn.csv\", header=True, inferSchema=True)\n",
    "df.printSchema()\n",
    "df.show(5)"
   ]
  },
  {
   "cell_type": "code",
   "execution_count": 3,
   "metadata": {},
   "outputs": [
    {
     "name": "stdout",
     "output_type": "stream",
     "text": [
      "+-----+-----+\n",
      "|Churn|count|\n",
      "+-----+-----+\n",
      "|   No| 5174|\n",
      "|  Yes| 1869|\n",
      "+-----+-----+\n",
      "\n"
     ]
    }
   ],
   "source": [
    "df.groupBy(\"Churn\").count().show()"
   ]
  },
  {
   "cell_type": "code",
   "execution_count": 7,
   "metadata": {},
   "outputs": [
    {
     "data": {
      "text/plain": [
       "['customerID',\n",
       " 'gender',\n",
       " 'SeniorCitizen',\n",
       " 'Partner',\n",
       " 'Dependents',\n",
       " 'tenure',\n",
       " 'PhoneService',\n",
       " 'MultipleLines',\n",
       " 'InternetService',\n",
       " 'OnlineSecurity',\n",
       " 'OnlineBackup',\n",
       " 'DeviceProtection',\n",
       " 'TechSupport',\n",
       " 'StreamingTV',\n",
       " 'StreamingMovies',\n",
       " 'Contract',\n",
       " 'PaperlessBilling',\n",
       " 'PaymentMethod',\n",
       " 'MonthlyCharges',\n",
       " 'TotalCharges',\n",
       " 'Churn',\n",
       " 'churn_rate',\n",
       " 'Churn Score',\n",
       " 'CLTV',\n",
       " 'Churn Reason',\n",
       " 'Count',\n",
       " 'Country',\n",
       " 'State',\n",
       " 'City',\n",
       " 'Zip Code',\n",
       " 'Lat Long',\n",
       " 'Latitude',\n",
       " 'Longitude',\n",
       " 'Age',\n",
       " 'Under 30',\n",
       " 'Married',\n",
       " 'Referred a Friend',\n",
       " 'Number of Referrals',\n",
       " 'Offer',\n",
       " 'Avg Monthly Long Distance Charges',\n",
       " 'Avg Monthly GB Download',\n",
       " 'Streaming Music',\n",
       " 'Premium Tech Support',\n",
       " 'Unlimited Data',\n",
       " 'Total Refunds',\n",
       " 'Total Extra Data Charges',\n",
       " 'Total Long Distance Charges',\n",
       " 'Total Revenue',\n",
       " 'Satisfaction Score',\n",
       " 'Customer Status',\n",
       " 'Churn Score.1',\n",
       " 'Churn Category']"
      ]
     },
     "execution_count": 7,
     "metadata": {},
     "output_type": "execute_result"
    }
   ],
   "source": [
    "df.columns"
   ]
  },
  {
   "cell_type": "code",
   "execution_count": 9,
   "metadata": {},
   "outputs": [
    {
     "name": "stdout",
     "output_type": "stream",
     "text": [
      "+-------+----------+------+------------------+-------+----------+------------------+------------+-------------+---------------+--------------+------------+----------------+-----------+-----------+---------------+--------------+----------------+--------------------+------------------+------------------+-----+------------------+------------------+------------------+--------------------+-----+-------------+----------+------+------------------+--------------------+-----------------+------------------+-----------------+--------+-------+-----------------+-------------------+-------+---------------------------------+-----------------------+---------------+--------------------+--------------+------------------+------------------------+---------------------------+------------------+------------------+---------------+------------------+--------------+\n",
      "|summary|customerID|gender|     SeniorCitizen|Partner|Dependents|            tenure|PhoneService|MultipleLines|InternetService|OnlineSecurity|OnlineBackup|DeviceProtection|TechSupport|StreamingTV|StreamingMovies|      Contract|PaperlessBilling|       PaymentMethod|    MonthlyCharges|      TotalCharges|Churn|        churn_rate|       Churn_Score|              CLTV|        Churn_Reason|Count|      Country|     State|  City|          Zip_Code|            Lat_Long|         Latitude|         Longitude|              Age|Under_30|Married|Referred_a_Friend|Number_of_Referrals|  Offer|Avg_Monthly_Long_Distance_Charges|Avg_Monthly_GB_Download|Streaming_Music|Premium_Tech_Support|Unlimited_Data|     Total_Refunds|Total_Extra_Data_Charges|Total_Long_Distance_Charges|     Total_Revenue|Satisfaction_Score|Customer_Status|     Churn_Score_1|Churn_Category|\n",
      "+-------+----------+------+------------------+-------+----------+------------------+------------+-------------+---------------+--------------+------------+----------------+-----------+-----------+---------------+--------------+----------------+--------------------+------------------+------------------+-----+------------------+------------------+------------------+--------------------+-----+-------------+----------+------+------------------+--------------------+-----------------+------------------+-----------------+--------+-------+-----------------+-------------------+-------+---------------------------------+-----------------------+---------------+--------------------+--------------+------------------+------------------------+---------------------------+------------------+------------------+---------------+------------------+--------------+\n",
      "|  count|      7043|  7043|              7043|   7043|      7043|              7043|        7043|         7043|           7043|          7043|        7043|            7043|       7043|       7043|           7043|          7043|            7043|                7043|              7043|              7043| 7043|              7043|              7043|              7043|                1869| 7043|         7043|      7043|  7043|              7043|                7043|             7043|              7043|             7043|    7043|   7043|             7043|               7043|   7043|                             7043|                   7043|           7043|                7043|          7043|              7043|                    7043|                       7043|              7043|              7043|           7043|              7043|          7043|\n",
      "|   mean|      NULL|  NULL|0.1621468124378816|   NULL|      NULL| 32.37114865824223|        NULL|         NULL|           NULL|          NULL|        NULL|            NULL|       NULL|       NULL|           NULL|          NULL|            NULL|                NULL|  64.7616924605991|2283.3004408418697| NULL|0.2653698707936959| 58.69941786170666| 4400.295754650007|                NULL|  1.0|         NULL|      NULL|  NULL| 93521.96464574755|                NULL|36.28244138108772| -119.798880081215|46.50972596904728|    NULL|   NULL|             NULL| 1.9518671020871787|   NULL|               22.958953570921555|     20.515405367031093|           NULL|                NULL|          NULL|1.9621823086752783|       6.860712764446968|          749.0992616782625|3034.3790558000874|3.2449240380519666|           NULL|58.505040465710636|           0.0|\n",
      "| stddev|      NULL|  NULL|0.3686116056100125|   NULL|      NULL|24.559481023094488|        NULL|         NULL|           NULL|          NULL|        NULL|            NULL|       NULL|       NULL|           NULL|          NULL|            NULL|                NULL|30.090047097678507| 2266.771361883143| NULL|0.4415613051219464|21.525130678490775|1183.0571519525213|                NULL|  0.0|         NULL|      NULL|  NULL|1865.7945553965885|                NULL| 2.45572258957212|2.1578890952575827|16.75035165510264|    NULL|   NULL|             NULL| 3.0011992998901023|   NULL|               15.448113345456914|      20.41894039224542|           NULL|                NULL|          NULL| 7.902614384450991|       25.10497799972439|          846.6600547987108|2865.2045415115294|1.2016571225409551|           NULL|21.170030779815434|           0.0|\n",
      "|    min|0002-ORFBO|Female|                 0|     No|        No|                 0|          No|           No|            DSL|            No|          No|              No|         No|         No|             No|Month-to-month|              No|Bank transfer (au...|             18.25|                  |   No|                 0|                 5|              2003|Attitude of servi...|    1|United States|California|Acampo|             90001|32.555828, -117.0...|        32.555828|       -124.301372|               19|      No|     No|               No|                  0|   None|                              0.0|                      0|             No|                  No|            No|               0.0|                       0|                        0.0|             21.36|                 1|        Churned|                 5|             0|\n",
      "|    max|9995-HOTOH|  Male|                 1|    Yes|       Yes|                72|         Yes|          Yes|             No|           Yes|         Yes|             Yes|        Yes|        Yes|            Yes|      Two year|             Yes|        Mailed check|            118.75|             999.9|  Yes|                 1|               100|              6500|Service dissatisf...|    1|United States|California| Zenia|             96161|41.962127, -122.5...|        41.962127|       -114.192901|               80|     Yes|    Yes|              Yes|                 11|Offer E|                            49.99|                     85|            Yes|                 Yes|           Yes|             49.79|                     150|                    3564.72|          11979.34|                 5|         Stayed|                96|         Price|\n",
      "+-------+----------+------+------------------+-------+----------+------------------+------------+-------------+---------------+--------------+------------+----------------+-----------+-----------+---------------+--------------+----------------+--------------------+------------------+------------------+-----+------------------+------------------+------------------+--------------------+-----+-------------+----------+------+------------------+--------------------+-----------------+------------------+-----------------+--------+-------+-----------------+-------------------+-------+---------------------------------+-----------------------+---------------+--------------------+--------------+------------------+------------------------+---------------------------+------------------+------------------+---------------+------------------+--------------+\n",
      "\n"
     ]
    }
   ],
   "source": [
    "for old_name in df.columns:\n",
    "    new_name = old_name.strip().replace(\" \", \"_\").replace(\".\", \"_\")\n",
    "    if old_name != new_name:\n",
    "        df = df.withColumnRenamed(old_name, new_name)\n",
    "df.columns\n",
    "df.describe().show()"
   ]
  },
  {
   "cell_type": "code",
   "execution_count": null,
   "metadata": {},
   "outputs": [],
   "source": []
  }
 ],
 "metadata": {
  "kernelspec": {
   "display_name": "Python 3 (ipykernel)",
   "language": "python",
   "name": "python3"
  },
  "language_info": {
   "codemirror_mode": {
    "name": "ipython",
    "version": 3
   },
   "file_extension": ".py",
   "mimetype": "text/x-python",
   "name": "python",
   "nbconvert_exporter": "python",
   "pygments_lexer": "ipython3",
   "version": "3.11.6"
  }
 },
 "nbformat": 4,
 "nbformat_minor": 4
}
