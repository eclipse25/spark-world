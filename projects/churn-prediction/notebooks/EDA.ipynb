{
 "cells": [
  {
   "cell_type": "markdown",
   "metadata": {},
   "source": [
    "SparkSession 생성"
   ]
  },
  {
   "cell_type": "code",
   "execution_count": 1,
   "metadata": {},
   "outputs": [
    {
     "data": {
      "text/html": [
       "\n",
       "            <div>\n",
       "                <p><b>SparkSession - in-memory</b></p>\n",
       "                \n",
       "        <div>\n",
       "            <p><b>SparkContext</b></p>\n",
       "\n",
       "            <p><a href=\"http://d2ed2b0a222c:4040\">Spark UI</a></p>\n",
       "\n",
       "            <dl>\n",
       "              <dt>Version</dt>\n",
       "                <dd><code>v3.5.0</code></dd>\n",
       "              <dt>Master</dt>\n",
       "                <dd><code>local[*]</code></dd>\n",
       "              <dt>AppName</dt>\n",
       "                <dd><code>ChurnEDA</code></dd>\n",
       "            </dl>\n",
       "        </div>\n",
       "        \n",
       "            </div>\n",
       "        "
      ],
      "text/plain": [
       "<pyspark.sql.session.SparkSession at 0xffffa93fc550>"
      ]
     },
     "execution_count": 1,
     "metadata": {},
     "output_type": "execute_result"
    }
   ],
   "source": [
    "from pyspark.sql import SparkSession\n",
    "\n",
    "spark = SparkSession.builder \\\n",
    "    .appName(\"ChurnEDA\") \\\n",
    "    .getOrCreate()\n",
    "\n",
    "spark"
   ]
  },
  {
   "cell_type": "markdown",
   "metadata": {},
   "source": [
    "CSV 데이터 로딩"
   ]
  },
  {
   "cell_type": "markdown",
   "metadata": {},
   "source": [
    "## 데이터 불러오기\n",
    "`Telco Customer Churn` 데이터를 PySpark로 불러온다. 헤더가 있는 CSV 파일이며, inferSchema 옵션을 통해 자동으로 타입을 추론한다."
   ]
  },
  {
   "cell_type": "code",
   "execution_count": 2,
   "metadata": {},
   "outputs": [
    {
     "name": "stdout",
     "output_type": "stream",
     "text": [
      "root\n",
      " |-- customerID: string (nullable = true)\n",
      " |-- gender: string (nullable = true)\n",
      " |-- SeniorCitizen: integer (nullable = true)\n",
      " |-- Partner: string (nullable = true)\n",
      " |-- Dependents: string (nullable = true)\n",
      " |-- tenure: integer (nullable = true)\n",
      " |-- PhoneService: string (nullable = true)\n",
      " |-- MultipleLines: string (nullable = true)\n",
      " |-- InternetService: string (nullable = true)\n",
      " |-- OnlineSecurity: string (nullable = true)\n",
      " |-- OnlineBackup: string (nullable = true)\n",
      " |-- DeviceProtection: string (nullable = true)\n",
      " |-- TechSupport: string (nullable = true)\n",
      " |-- StreamingTV: string (nullable = true)\n",
      " |-- StreamingMovies: string (nullable = true)\n",
      " |-- Contract: string (nullable = true)\n",
      " |-- PaperlessBilling: string (nullable = true)\n",
      " |-- PaymentMethod: string (nullable = true)\n",
      " |-- MonthlyCharges: double (nullable = true)\n",
      " |-- TotalCharges: string (nullable = true)\n",
      " |-- Churn: string (nullable = true)\n",
      " |-- churn_rate: integer (nullable = true)\n",
      " |-- Churn Score: integer (nullable = true)\n",
      " |-- CLTV: integer (nullable = true)\n",
      " |-- Churn Reason: string (nullable = true)\n",
      " |-- Count: integer (nullable = true)\n",
      " |-- Country: string (nullable = true)\n",
      " |-- State: string (nullable = true)\n",
      " |-- City: string (nullable = true)\n",
      " |-- Zip Code: integer (nullable = true)\n",
      " |-- Lat Long: string (nullable = true)\n",
      " |-- Latitude: double (nullable = true)\n",
      " |-- Longitude: double (nullable = true)\n",
      " |-- Age: integer (nullable = true)\n",
      " |-- Under 30: string (nullable = true)\n",
      " |-- Married: string (nullable = true)\n",
      " |-- Referred a Friend: string (nullable = true)\n",
      " |-- Number of Referrals: integer (nullable = true)\n",
      " |-- Offer: string (nullable = true)\n",
      " |-- Avg Monthly Long Distance Charges: double (nullable = true)\n",
      " |-- Avg Monthly GB Download: integer (nullable = true)\n",
      " |-- Streaming Music: string (nullable = true)\n",
      " |-- Premium Tech Support: string (nullable = true)\n",
      " |-- Unlimited Data: string (nullable = true)\n",
      " |-- Total Refunds: double (nullable = true)\n",
      " |-- Total Extra Data Charges: integer (nullable = true)\n",
      " |-- Total Long Distance Charges: double (nullable = true)\n",
      " |-- Total Revenue: double (nullable = true)\n",
      " |-- Satisfaction Score: integer (nullable = true)\n",
      " |-- Customer Status: string (nullable = true)\n",
      " |-- Churn Score.1: integer (nullable = true)\n",
      " |-- Churn Category: string (nullable = true)\n",
      "\n",
      "+----------+------+-------------+-------+----------+------+------------+-------------+---------------+--------------+------------+----------------+-----------+-----------+---------------+--------------+----------------+--------------------+--------------+------------+-----+----------+-----------+----+--------------------+-----+-------------+----------+-----------+--------+--------------------+---------+-----------+---+--------+-------+-----------------+-------------------+-------+---------------------------------+-----------------------+---------------+--------------------+--------------+-------------+------------------------+---------------------------+------------------+------------------+---------------+-------------+--------------+\n",
      "|customerID|gender|SeniorCitizen|Partner|Dependents|tenure|PhoneService|MultipleLines|InternetService|OnlineSecurity|OnlineBackup|DeviceProtection|TechSupport|StreamingTV|StreamingMovies|      Contract|PaperlessBilling|       PaymentMethod|MonthlyCharges|TotalCharges|Churn|churn_rate|Churn Score|CLTV|        Churn Reason|Count|      Country|     State|       City|Zip Code|            Lat Long| Latitude|  Longitude|Age|Under 30|Married|Referred a Friend|Number of Referrals|  Offer|Avg Monthly Long Distance Charges|Avg Monthly GB Download|Streaming Music|Premium Tech Support|Unlimited Data|Total Refunds|Total Extra Data Charges|Total Long Distance Charges|     Total Revenue|Satisfaction Score|Customer Status|Churn Score.1|Churn Category|\n",
      "+----------+------+-------------+-------+----------+------+------------+-------------+---------------+--------------+------------+----------------+-----------+-----------+---------------+--------------+----------------+--------------------+--------------+------------+-----+----------+-----------+----+--------------------+-----+-------------+----------+-----------+--------+--------------------+---------+-----------+---+--------+-------+-----------------+-------------------+-------+---------------------------------+-----------------------+---------------+--------------------+--------------+-------------+------------------------+---------------------------+------------------+------------------+---------------+-------------+--------------+\n",
      "|3668-QPYBK|  Male|            0|     No|        No|     2|         Yes|           No|            DSL|           Yes|         Yes|              No|         No|         No|             No|Month-to-month|             Yes|        Mailed check|         53.85|      108.15|  Yes|         1|         86|3239|Competitor made b...|    1|United States|California|Los Angeles|   90003|33.964131, -118.2...|33.964131|-118.272783| 37|      No|     No|               No|                  0|   None|                            10.47|                     21|             No|                  No|           Yes|          0.0|                       0|                      20.94|            129.09|                 1|        Churned|           86|    Competitor|\n",
      "|9237-HQITU|Female|            0|     No|        No|     2|         Yes|           No|    Fiber optic|            No|          No|              No|         No|         No|             No|Month-to-month|             Yes|    Electronic check|          70.7|      151.65|  Yes|         1|         67|2701|               Moved|    1|United States|California|Los Angeles|   90005|34.059281, -118.3...|34.059281| -118.30742| 19|     Yes|     No|               No|                  0|   None|                             9.12|                     51|             No|                  No|           Yes|          0.0|                       0|                      18.24|169.89000000000001|                 2|        Churned|           67|         Other|\n",
      "|9305-CDSKC|Female|            0|     No|        No|     8|         Yes|          Yes|    Fiber optic|            No|          No|             Yes|         No|        Yes|            Yes|Month-to-month|             Yes|    Electronic check|         99.65|       820.5|  Yes|         1|         86|5372|               Moved|    1|United States|California|Los Angeles|   90006|34.048013, -118.2...|34.048013|-118.293953| 31|      No|     No|               No|                  0|   None|                            12.15|                     26|            Yes|                  No|           Yes|          0.0|                       0|                       97.2|             917.7|                 3|        Churned|           86|         Other|\n",
      "|7892-POOKP|Female|            0|    Yes|        No|    28|         Yes|          Yes|    Fiber optic|            No|          No|             Yes|        Yes|        Yes|            Yes|Month-to-month|             Yes|    Electronic check|         104.8|     3046.05|  Yes|         1|         84|5003|               Moved|    1|United States|California|Los Angeles|   90010|34.062125, -118.3...|34.062125|-118.315709| 23|     Yes|    Yes|               No|                  0|Offer C|                             4.89|                     47|            Yes|                 Yes|           Yes|          0.0|                       0|                     136.92|3182.9700000000003|                 3|        Churned|           84|         Other|\n",
      "|0280-XJGEX|  Male|            0|     No|        No|    49|         Yes|          Yes|    Fiber optic|            No|         Yes|             Yes|         No|        Yes|            Yes|Month-to-month|             Yes|Bank transfer (au...|         103.7|      5036.3|  Yes|         1|         89|5340|Competitor had be...|    1|United States|California|Los Angeles|   90015|34.039224, -118.2...|34.039224|-118.266293| 38|      No|     No|               No|                  0|   None|                            44.33|                     11|            Yes|                  No|           Yes|          0.0|                       0|                    2172.17|           7208.47|                 1|        Churned|           89|    Competitor|\n",
      "+----------+------+-------------+-------+----------+------+------------+-------------+---------------+--------------+------------+----------------+-----------+-----------+---------------+--------------+----------------+--------------------+--------------+------------+-----+----------+-----------+----+--------------------+-----+-------------+----------+-----------+--------+--------------------+---------+-----------+---+--------+-------+-----------------+-------------------+-------+---------------------------------+-----------------------+---------------+--------------------+--------------+-------------+------------------------+---------------------------+------------------+------------------+---------------+-------------+--------------+\n",
      "only showing top 5 rows\n",
      "\n"
     ]
    }
   ],
   "source": [
    "df = spark.read.csv(\"../data/Telco_customer_churn.csv\", header=True, inferSchema=True)\n",
    "df.printSchema()\n",
    "df.show(5)"
   ]
  },
  {
   "cell_type": "markdown",
   "metadata": {},
   "source": [
    "이탈 여부(Churn) 분포 확인"
   ]
  },
  {
   "cell_type": "markdown",
   "metadata": {},
   "source": [
    "## 이탈 여부(Churn) 분포 확인\n",
    "데이터셋의 타겟 컬럼인 `Churn`의 값 분포를 확인한다. 클래스 불균형 여부를 파악하는 데 유용하다."
   ]
  },
  {
   "cell_type": "code",
   "execution_count": 3,
   "metadata": {},
   "outputs": [
    {
     "name": "stdout",
     "output_type": "stream",
     "text": [
      "+-----+-----+\n",
      "|Churn|count|\n",
      "+-----+-----+\n",
      "|   No| 5174|\n",
      "|  Yes| 1869|\n",
      "+-----+-----+\n",
      "\n"
     ]
    }
   ],
   "source": [
    "df.groupBy(\"Churn\").count().show()"
   ]
  },
  {
   "cell_type": "markdown",
   "metadata": {},
   "source": [
    "컬럼 이름 리스트 출력"
   ]
  },
  {
   "cell_type": "code",
   "execution_count": 4,
   "metadata": {},
   "outputs": [
    {
     "data": {
      "text/plain": [
       "['customerID',\n",
       " 'gender',\n",
       " 'SeniorCitizen',\n",
       " 'Partner',\n",
       " 'Dependents',\n",
       " 'tenure',\n",
       " 'PhoneService',\n",
       " 'MultipleLines',\n",
       " 'InternetService',\n",
       " 'OnlineSecurity',\n",
       " 'OnlineBackup',\n",
       " 'DeviceProtection',\n",
       " 'TechSupport',\n",
       " 'StreamingTV',\n",
       " 'StreamingMovies',\n",
       " 'Contract',\n",
       " 'PaperlessBilling',\n",
       " 'PaymentMethod',\n",
       " 'MonthlyCharges',\n",
       " 'TotalCharges',\n",
       " 'Churn',\n",
       " 'churn_rate',\n",
       " 'Churn Score',\n",
       " 'CLTV',\n",
       " 'Churn Reason',\n",
       " 'Count',\n",
       " 'Country',\n",
       " 'State',\n",
       " 'City',\n",
       " 'Zip Code',\n",
       " 'Lat Long',\n",
       " 'Latitude',\n",
       " 'Longitude',\n",
       " 'Age',\n",
       " 'Under 30',\n",
       " 'Married',\n",
       " 'Referred a Friend',\n",
       " 'Number of Referrals',\n",
       " 'Offer',\n",
       " 'Avg Monthly Long Distance Charges',\n",
       " 'Avg Monthly GB Download',\n",
       " 'Streaming Music',\n",
       " 'Premium Tech Support',\n",
       " 'Unlimited Data',\n",
       " 'Total Refunds',\n",
       " 'Total Extra Data Charges',\n",
       " 'Total Long Distance Charges',\n",
       " 'Total Revenue',\n",
       " 'Satisfaction Score',\n",
       " 'Customer Status',\n",
       " 'Churn Score.1',\n",
       " 'Churn Category']"
      ]
     },
     "execution_count": 4,
     "metadata": {},
     "output_type": "execute_result"
    }
   ],
   "source": [
    "df.columns"
   ]
  },
  {
   "cell_type": "markdown",
   "metadata": {},
   "source": [
    "컬럼 이름 정제 (공백, 마침표 → 언더스코어)"
   ]
  },
  {
   "cell_type": "code",
   "execution_count": 5,
   "metadata": {},
   "outputs": [
    {
     "name": "stdout",
     "output_type": "stream",
     "text": [
      "+-------+----------+------+------------------+-------+----------+------------------+------------+-------------+---------------+--------------+------------+----------------+-----------+-----------+---------------+--------------+----------------+--------------------+------------------+------------------+-----+------------------+------------------+------------------+--------------------+-----+-------------+----------+------+------------------+--------------------+-----------------+------------------+-----------------+--------+-------+-----------------+-------------------+-------+---------------------------------+-----------------------+---------------+--------------------+--------------+------------------+------------------------+---------------------------+------------------+------------------+---------------+------------------+--------------+\n",
      "|summary|customerID|gender|     SeniorCitizen|Partner|Dependents|            tenure|PhoneService|MultipleLines|InternetService|OnlineSecurity|OnlineBackup|DeviceProtection|TechSupport|StreamingTV|StreamingMovies|      Contract|PaperlessBilling|       PaymentMethod|    MonthlyCharges|      TotalCharges|Churn|        churn_rate|       Churn_Score|              CLTV|        Churn_Reason|Count|      Country|     State|  City|          Zip_Code|            Lat_Long|         Latitude|         Longitude|              Age|Under_30|Married|Referred_a_Friend|Number_of_Referrals|  Offer|Avg_Monthly_Long_Distance_Charges|Avg_Monthly_GB_Download|Streaming_Music|Premium_Tech_Support|Unlimited_Data|     Total_Refunds|Total_Extra_Data_Charges|Total_Long_Distance_Charges|     Total_Revenue|Satisfaction_Score|Customer_Status|     Churn_Score_1|Churn_Category|\n",
      "+-------+----------+------+------------------+-------+----------+------------------+------------+-------------+---------------+--------------+------------+----------------+-----------+-----------+---------------+--------------+----------------+--------------------+------------------+------------------+-----+------------------+------------------+------------------+--------------------+-----+-------------+----------+------+------------------+--------------------+-----------------+------------------+-----------------+--------+-------+-----------------+-------------------+-------+---------------------------------+-----------------------+---------------+--------------------+--------------+------------------+------------------------+---------------------------+------------------+------------------+---------------+------------------+--------------+\n",
      "|  count|      7043|  7043|              7043|   7043|      7043|              7043|        7043|         7043|           7043|          7043|        7043|            7043|       7043|       7043|           7043|          7043|            7043|                7043|              7043|              7043| 7043|              7043|              7043|              7043|                1869| 7043|         7043|      7043|  7043|              7043|                7043|             7043|              7043|             7043|    7043|   7043|             7043|               7043|   7043|                             7043|                   7043|           7043|                7043|          7043|              7043|                    7043|                       7043|              7043|              7043|           7043|              7043|          7043|\n",
      "|   mean|      NULL|  NULL|0.1621468124378816|   NULL|      NULL| 32.37114865824223|        NULL|         NULL|           NULL|          NULL|        NULL|            NULL|       NULL|       NULL|           NULL|          NULL|            NULL|                NULL|  64.7616924605991|2283.3004408418697| NULL|0.2653698707936959| 58.69941786170666| 4400.295754650007|                NULL|  1.0|         NULL|      NULL|  NULL| 93521.96464574755|                NULL|36.28244138108772| -119.798880081215|46.50972596904728|    NULL|   NULL|             NULL| 1.9518671020871787|   NULL|               22.958953570921555|     20.515405367031093|           NULL|                NULL|          NULL|1.9621823086752783|       6.860712764446968|          749.0992616782625|3034.3790558000874|3.2449240380519666|           NULL|58.505040465710636|           0.0|\n",
      "| stddev|      NULL|  NULL|0.3686116056100125|   NULL|      NULL|24.559481023094488|        NULL|         NULL|           NULL|          NULL|        NULL|            NULL|       NULL|       NULL|           NULL|          NULL|            NULL|                NULL|30.090047097678507| 2266.771361883143| NULL|0.4415613051219464|21.525130678490775|1183.0571519525213|                NULL|  0.0|         NULL|      NULL|  NULL|1865.7945553965885|                NULL| 2.45572258957212|2.1578890952575827|16.75035165510264|    NULL|   NULL|             NULL| 3.0011992998901023|   NULL|               15.448113345456914|      20.41894039224542|           NULL|                NULL|          NULL| 7.902614384450991|       25.10497799972439|          846.6600547987108|2865.2045415115294|1.2016571225409551|           NULL|21.170030779815434|           0.0|\n",
      "|    min|0002-ORFBO|Female|                 0|     No|        No|                 0|          No|           No|            DSL|            No|          No|              No|         No|         No|             No|Month-to-month|              No|Bank transfer (au...|             18.25|                  |   No|                 0|                 5|              2003|Attitude of servi...|    1|United States|California|Acampo|             90001|32.555828, -117.0...|        32.555828|       -124.301372|               19|      No|     No|               No|                  0|   None|                              0.0|                      0|             No|                  No|            No|               0.0|                       0|                        0.0|             21.36|                 1|        Churned|                 5|             0|\n",
      "|    max|9995-HOTOH|  Male|                 1|    Yes|       Yes|                72|         Yes|          Yes|             No|           Yes|         Yes|             Yes|        Yes|        Yes|            Yes|      Two year|             Yes|        Mailed check|            118.75|             999.9|  Yes|                 1|               100|              6500|Service dissatisf...|    1|United States|California| Zenia|             96161|41.962127, -122.5...|        41.962127|       -114.192901|               80|     Yes|    Yes|              Yes|                 11|Offer E|                            49.99|                     85|            Yes|                 Yes|           Yes|             49.79|                     150|                    3564.72|          11979.34|                 5|         Stayed|                96|         Price|\n",
      "+-------+----------+------+------------------+-------+----------+------------------+------------+-------------+---------------+--------------+------------+----------------+-----------+-----------+---------------+--------------+----------------+--------------------+------------------+------------------+-----+------------------+------------------+------------------+--------------------+-----+-------------+----------+------+------------------+--------------------+-----------------+------------------+-----------------+--------+-------+-----------------+-------------------+-------+---------------------------------+-----------------------+---------------+--------------------+--------------+------------------+------------------------+---------------------------+------------------+------------------+---------------+------------------+--------------+\n",
      "\n"
     ]
    }
   ],
   "source": [
    "for old_name in df.columns:\n",
    "    new_name = old_name.strip().replace(\" \", \"_\").replace(\".\", \"_\")\n",
    "    if old_name != new_name:\n",
    "        df = df.withColumnRenamed(old_name, new_name)\n",
    "df.columns\n",
    "df.describe().show()"
   ]
  },
  {
   "cell_type": "markdown",
   "metadata": {},
   "source": [
    "결측치 확인"
   ]
  },
  {
   "cell_type": "code",
   "execution_count": 6,
   "metadata": {},
   "outputs": [
    {
     "name": "stdout",
     "output_type": "stream",
     "text": [
      "+----------+------+-------------+-------+----------+------+------------+-------------+---------------+--------------+------------+----------------+-----------+-----------+---------------+--------+----------------+-------------+--------------+------------+-----+----------+-----------+----+------------+-----+-------+-----+----+--------+--------+--------+---------+---+--------+-------+-----------------+-------------------+-----+---------------------------------+-----------------------+---------------+--------------------+--------------+-------------+------------------------+---------------------------+-------------+------------------+---------------+-------------+--------------+\n",
      "|customerID|gender|SeniorCitizen|Partner|Dependents|tenure|PhoneService|MultipleLines|InternetService|OnlineSecurity|OnlineBackup|DeviceProtection|TechSupport|StreamingTV|StreamingMovies|Contract|PaperlessBilling|PaymentMethod|MonthlyCharges|TotalCharges|Churn|churn_rate|Churn_Score|CLTV|Churn_Reason|Count|Country|State|City|Zip_Code|Lat_Long|Latitude|Longitude|Age|Under_30|Married|Referred_a_Friend|Number_of_Referrals|Offer|Avg_Monthly_Long_Distance_Charges|Avg_Monthly_GB_Download|Streaming_Music|Premium_Tech_Support|Unlimited_Data|Total_Refunds|Total_Extra_Data_Charges|Total_Long_Distance_Charges|Total_Revenue|Satisfaction_Score|Customer_Status|Churn_Score_1|Churn_Category|\n",
      "+----------+------+-------------+-------+----------+------+------------+-------------+---------------+--------------+------------+----------------+-----------+-----------+---------------+--------+----------------+-------------+--------------+------------+-----+----------+-----------+----+------------+-----+-------+-----+----+--------+--------+--------+---------+---+--------+-------+-----------------+-------------------+-----+---------------------------------+-----------------------+---------------+--------------------+--------------+-------------+------------------------+---------------------------+-------------+------------------+---------------+-------------+--------------+\n",
      "|         0|     0|            0|      0|         0|     0|           0|            0|              0|             0|           0|               0|          0|          0|              0|       0|               0|            0|             0|           0|    0|         0|          0|   0|        5174|    0|      0|    0|   0|       0|       0|       0|        0|  0|       0|      0|                0|                  0|    0|                                0|                      0|              0|                   0|             0|            0|                       0|                          0|            0|                 0|              0|            0|             0|\n",
      "+----------+------+-------------+-------+----------+------+------------+-------------+---------------+--------------+------------+----------------+-----------+-----------+---------------+--------+----------------+-------------+--------------+------------+-----+----------+-----------+----+------------+-----+-------+-----+----+--------+--------+--------+---------+---+--------+-------+-----------------+-------------------+-----+---------------------------------+-----------------------+---------------+--------------------+--------------+-------------+------------------------+---------------------------+-------------+------------------+---------------+-------------+--------------+\n",
      "\n"
     ]
    }
   ],
   "source": [
    "from pyspark.sql.functions import col, count, isnan, when\n",
    "\n",
    "df.select([count(when(col(c).isNull() | isnan(c), c)).alias(c) for c in df.columns]).show()"
   ]
  },
  {
   "cell_type": "markdown",
   "metadata": {},
   "source": [
    "TotalCharges에 빈 문자열 있는지 확인"
   ]
  },
  {
   "cell_type": "code",
   "execution_count": 7,
   "metadata": {},
   "outputs": [
    {
     "name": "stdout",
     "output_type": "stream",
     "text": [
      "+----------+------+-------------+-------+----------+------+------------+-------------+---------------+--------------+------------+----------------+-----------+-----------+---------------+--------+----------------+-------------+--------------+------------+-----+----------+-----------+----+------------+-----+-------+-----+----+--------+--------+--------+---------+---+--------+-------+-----------------+-------------------+-----+---------------------------------+-----------------------+---------------+--------------------+--------------+-------------+------------------------+---------------------------+-------------+------------------+---------------+-------------+--------------+\n",
      "|customerID|gender|SeniorCitizen|Partner|Dependents|tenure|PhoneService|MultipleLines|InternetService|OnlineSecurity|OnlineBackup|DeviceProtection|TechSupport|StreamingTV|StreamingMovies|Contract|PaperlessBilling|PaymentMethod|MonthlyCharges|TotalCharges|Churn|churn_rate|Churn_Score|CLTV|Churn_Reason|Count|Country|State|City|Zip_Code|Lat_Long|Latitude|Longitude|Age|Under_30|Married|Referred_a_Friend|Number_of_Referrals|Offer|Avg_Monthly_Long_Distance_Charges|Avg_Monthly_GB_Download|Streaming_Music|Premium_Tech_Support|Unlimited_Data|Total_Refunds|Total_Extra_Data_Charges|Total_Long_Distance_Charges|Total_Revenue|Satisfaction_Score|Customer_Status|Churn_Score_1|Churn_Category|\n",
      "+----------+------+-------------+-------+----------+------+------------+-------------+---------------+--------------+------------+----------------+-----------+-----------+---------------+--------+----------------+-------------+--------------+------------+-----+----------+-----------+----+------------+-----+-------+-----+----+--------+--------+--------+---------+---+--------+-------+-----------------+-------------------+-----+---------------------------------+-----------------------+---------------+--------------------+--------------+-------------+------------------------+---------------------------+-------------+------------------+---------------+-------------+--------------+\n",
      "+----------+------+-------------+-------+----------+------+------------+-------------+---------------+--------------+------------+----------------+-----------+-----------+---------------+--------+----------------+-------------+--------------+------------+-----+----------+-----------+----+------------+-----+-------+-----+----+--------+--------+--------+---------+---+--------+-------+-----------------+-------------------+-----+---------------------------------+-----------------------+---------------+--------------------+--------------+-------------+------------------------+---------------------------+-------------+------------------+---------------+-------------+--------------+\n",
      "\n"
     ]
    }
   ],
   "source": [
    "df.filter(col(\"TotalCharges\") == \"\").show()"
   ]
  },
  {
   "cell_type": "code",
   "execution_count": 8,
   "metadata": {},
   "outputs": [],
   "source": [
    "from pyspark.sql.functions import col\n",
    "\n",
    "df = df.withColumn(\"TotalCharges\", col(\"TotalCharges\").cast(\"double\"))"
   ]
  },
  {
   "cell_type": "code",
   "execution_count": 9,
   "metadata": {},
   "outputs": [
    {
     "name": "stdout",
     "output_type": "stream",
     "text": [
      "+-----+-------------------+------------------+------------------+\n",
      "|Churn|avg(MonthlyCharges)|       avg(tenure)| avg(TotalCharges)|\n",
      "+-----+-------------------+------------------+------------------+\n",
      "|   No|   61.2651236953999| 37.56996521066873|2555.3441410032997|\n",
      "|  Yes|   74.4413322632423|17.979133226324237|1531.7960941680035|\n",
      "+-----+-------------------+------------------+------------------+\n",
      "\n"
     ]
    }
   ],
   "source": [
    "df.groupBy(\"Churn\").avg(\"MonthlyCharges\", \"tenure\", \"TotalCharges\").show()"
   ]
  },
  {
   "cell_type": "code",
   "execution_count": 10,
   "metadata": {},
   "outputs": [
    {
     "name": "stdout",
     "output_type": "stream",
     "text": [
      "+--------------+-----+-----+\n",
      "|      Contract|Churn|count|\n",
      "+--------------+-----+-----+\n",
      "|Month-to-month|   No| 2220|\n",
      "|Month-to-month|  Yes| 1655|\n",
      "|      One year|   No| 1307|\n",
      "|      One year|  Yes|  166|\n",
      "|      Two year|   No| 1647|\n",
      "|      Two year|  Yes|   48|\n",
      "+--------------+-----+-----+\n",
      "\n"
     ]
    }
   ],
   "source": [
    "df.groupBy(\"Contract\", \"Churn\").count().orderBy(\"Contract\", \"Churn\").show()"
   ]
  },
  {
   "cell_type": "code",
   "execution_count": 11,
   "metadata": {},
   "outputs": [
    {
     "name": "stdout",
     "output_type": "stream",
     "text": [
      "+---------------+-----+-----+\n",
      "|InternetService|Churn|count|\n",
      "+---------------+-----+-----+\n",
      "|            DSL|   No| 1962|\n",
      "|            DSL|  Yes|  459|\n",
      "|    Fiber optic|   No| 1799|\n",
      "|    Fiber optic|  Yes| 1297|\n",
      "|             No|   No| 1413|\n",
      "|             No|  Yes|  113|\n",
      "+---------------+-----+-----+\n",
      "\n"
     ]
    }
   ],
   "source": [
    "df.groupBy(\"InternetService\", \"Churn\").count().orderBy(\"InternetService\", \"Churn\").show()"
   ]
  },
  {
   "cell_type": "code",
   "execution_count": 12,
   "metadata": {},
   "outputs": [],
   "source": [
    "categorical_cols = [\n",
    "    \"Contract\",\n",
    "    \"InternetService\",\n",
    "    \"PaymentMethod\",\n",
    "    \"OnlineSecurity\",\n",
    "    \"OnlineBackup\",\n",
    "    \"DeviceProtection\",\n",
    "    \"TechSupport\",\n",
    "    \"StreamingTV\",\n",
    "    \"StreamingMovies\",\n",
    "    \"MultipleLines\",\n",
    "    \"PhoneService\",\n",
    "    \"PaperlessBilling\",\n",
    "    \"gender\",\n",
    "    \"SeniorCitizen\",\n",
    "    \"Partner\",\n",
    "    \"Dependents\"\n",
    "]"
   ]
  },
  {
   "cell_type": "markdown",
   "metadata": {},
   "source": [
    "## 범주형 변수별 이탈률 확인\n",
    "`show_churn_rate_by` 함수를 사용하여 각 범주형 변수에 따라 Churn 여부가 어떻게 분포하는지 확인한다. 이탈률이 높거나 낮은 특정 그룹이 존재하는지 파악할 수 있다."
   ]
  },
  {
   "cell_type": "code",
   "execution_count": 13,
   "metadata": {},
   "outputs": [],
   "source": [
    "from pyspark.sql.functions import col, round\n",
    "\n",
    "def show_churn_rate_by(column_name):\n",
    "    total = df.groupBy(column_name).count().withColumnRenamed(\"count\", \"total\")\n",
    "    churned = df.filter(col(\"Churn\") == \"Yes\") \\\n",
    "                .groupBy(column_name).count().withColumnRenamed(\"count\", \"churned\")\n",
    "    \n",
    "    joined = total.join(churned, column_name, \"left\").fillna(0)\n",
    "    result = joined.withColumn(\n",
    "        \"churn_rate(%)\", round(col(\"churned\") / col(\"total\") * 100, 2)\n",
    "    ).orderBy(\"churn_rate(%)\", ascending=False)\n",
    "    \n",
    "    result.select(column_name, \"total\", \"churned\", \"churn_rate(%)\").show(truncate=False)"
   ]
  },
  {
   "cell_type": "markdown",
   "metadata": {},
   "source": [
    "## 범주형 변수별 이탈률 확인\n",
    "`show_churn_rate_by` 함수를 사용하여 각 범주형 변수에 따라 Churn 여부가 어떻게 분포하는지 확인한다. 이탈률이 높거나 낮은 특정 그룹이 존재하는지 파악할 수 있다."
   ]
  },
  {
   "cell_type": "code",
   "execution_count": 14,
   "metadata": {},
   "outputs": [
    {
     "name": "stdout",
     "output_type": "stream",
     "text": [
      "+-------------------------+-----+-------+-------------+\n",
      "|PaymentMethod            |total|churned|churn_rate(%)|\n",
      "+-------------------------+-----+-------+-------------+\n",
      "|Electronic check         |2365 |1071   |45.29        |\n",
      "|Mailed check             |1612 |308    |19.11        |\n",
      "|Bank transfer (automatic)|1544 |258    |16.71        |\n",
      "|Credit card (automatic)  |1522 |232    |15.24        |\n",
      "+-------------------------+-----+-------+-------------+\n",
      "\n",
      "+-------------------+-----+-------+-------------+\n",
      "|TechSupport        |total|churned|churn_rate(%)|\n",
      "+-------------------+-----+-------+-------------+\n",
      "|No                 |3473 |1446   |41.64        |\n",
      "|Yes                |2044 |310    |15.17        |\n",
      "|No internet service|1526 |113    |7.4          |\n",
      "+-------------------+-----+-------+-------------+\n",
      "\n",
      "+-------------------+-----+-------+-------------+\n",
      "|OnlineSecurity     |total|churned|churn_rate(%)|\n",
      "+-------------------+-----+-------+-------------+\n",
      "|No                 |3498 |1461   |41.77        |\n",
      "|Yes                |2019 |295    |14.61        |\n",
      "|No internet service|1526 |113    |7.4          |\n",
      "+-------------------+-----+-------+-------------+\n",
      "\n"
     ]
    }
   ],
   "source": [
    "show_churn_rate_by(\"PaymentMethod\")\n",
    "show_churn_rate_by(\"TechSupport\")\n",
    "show_churn_rate_by(\"OnlineSecurity\")"
   ]
  },
  {
   "cell_type": "code",
   "execution_count": 15,
   "metadata": {},
   "outputs": [
    {
     "data": {
      "image/png": "[encoded data removed]",
      "text/plain": [
       "<Figure size 640x480 with 1 Axes>"
      ]
     },
     "metadata": {},
     "output_type": "display_data"
    }
   ],
   "source": [
    "import seaborn as sns\n",
    "import matplotlib.pyplot as plt\n",
    "import pandas as pd\n",
    "\n",
    "data = {\n",
    "    'PaymentMethod': ['Electronic check', 'Mailed check', 'Bank transfer (automatic)', 'Credit card (automatic)'],\n",
    "    'Churn Rate': [45.29, 19.11, 16.71, 15.24]\n",
    "}\n",
    "\n",
    "df_plot = pd.DataFrame(data)\n",
    "sns.barplot(x='Churn Rate', y='PaymentMethod', data=df_plot)\n",
    "plt.title('Churn Rate by Payment Method')\n",
    "plt.show()"
   ]
  },
  {
   "cell_type": "markdown",
   "metadata": {},
   "source": [
    "## 라벨 인코딩\n",
    "`Churn` 컬럼의 문자열 값을 모델 학습에 사용할 수 있도록 0 또는 1의 수치형 라벨로 변환한다. PySpark의 `StringIndexer`를 사용하며, 변환된 컬럼 이름은 `label`이다."
   ]
  },
  {
   "cell_type": "code",
   "execution_count": 16,
   "metadata": {},
   "outputs": [
    {
     "name": "stdout",
     "output_type": "stream",
     "text": [
      "+-----+-----+\n",
      "|Churn|label|\n",
      "+-----+-----+\n",
      "|  Yes|  1.0|\n",
      "|  Yes|  1.0|\n",
      "|  Yes|  1.0|\n",
      "|  Yes|  1.0|\n",
      "|  Yes|  1.0|\n",
      "+-----+-----+\n",
      "only showing top 5 rows\n",
      "\n"
     ]
    }
   ],
   "source": [
    "from pyspark.ml.feature import StringIndexer\n",
    "\n",
    "label_indexer = StringIndexer(inputCol=\"Churn\", outputCol=\"label\")\n",
    "df_ml = label_indexer.fit(df).transform(df)\n",
    "df_ml.select(\"Churn\", \"label\").show(5)"
   ]
  },
  {
   "cell_type": "code",
   "execution_count": 17,
   "metadata": {},
   "outputs": [],
   "source": [
    "categorical_cols = [\n",
    "    \"gender\", \"SeniorCitizen\", \"Partner\", \"Dependents\",\n",
    "    \"PhoneService\", \"MultipleLines\", \"InternetService\",\n",
    "    \"OnlineSecurity\", \"OnlineBackup\", \"DeviceProtection\",\n",
    "    \"TechSupport\", \"StreamingTV\", \"StreamingMovies\",\n",
    "    \"Contract\", \"PaperlessBilling\", \"PaymentMethod\"\n",
    "]"
   ]
  },
  {
   "cell_type": "markdown",
   "metadata": {},
   "source": [
    "## 범주형 변수 인코딩\n",
    "모델 학습을 위해 모든 범주형 컬럼을 수치형으로 변환한다. 각 컬럼마다 `_index` 접미사가 붙은 새로운 컬럼이 생성된다. `Pipeline`을 사용하여 여러 개의 `StringIndexer`를 순차적으로 적용한다."
   ]
  },
  {
   "cell_type": "code",
   "execution_count": 18,
   "metadata": {},
   "outputs": [],
   "source": [
    "from pyspark.ml import Pipeline\n",
    "from pyspark.ml.feature import StringIndexer\n",
    "\n",
    "indexers = [\n",
    "    StringIndexer(inputCol=col, outputCol=f\"{col}_index\")\n",
    "    for col in categorical_cols\n",
    "]"
   ]
  },
  {
   "cell_type": "code",
   "execution_count": 19,
   "metadata": {},
   "outputs": [],
   "source": [
    "pipeline = Pipeline(stages=indexers)\n",
    "df_indexed = pipeline.fit(df_ml).transform(df_ml)"
   ]
  },
  {
   "cell_type": "code",
   "execution_count": 20,
   "metadata": {},
   "outputs": [
    {
     "name": "stdout",
     "output_type": "stream",
     "text": [
      "+--------------+--------------+--------------------+-------------------+\n",
      "|      Contract|Contract_index|       PaymentMethod|PaymentMethod_index|\n",
      "+--------------+--------------+--------------------+-------------------+\n",
      "|Month-to-month|           0.0|        Mailed check|                1.0|\n",
      "|Month-to-month|           0.0|    Electronic check|                0.0|\n",
      "|Month-to-month|           0.0|    Electronic check|                0.0|\n",
      "|Month-to-month|           0.0|    Electronic check|                0.0|\n",
      "|Month-to-month|           0.0|Bank transfer (au...|                2.0|\n",
      "+--------------+--------------+--------------------+-------------------+\n",
      "only showing top 5 rows\n",
      "\n"
     ]
    }
   ],
   "source": [
    "df_indexed.select(\"Contract\", \"Contract_index\", \"PaymentMethod\", \"PaymentMethod_index\").show(5)"
   ]
  },
  {
   "cell_type": "markdown",
   "metadata": {},
   "source": [
    "## 특징 벡터 생성\n",
    "모델에 입력할 모든 feature를 하나의 벡터 컬럼으로 합친다. `VectorAssembler`를 사용하여 인코딩된 범주형 변수와 수치형 변수를 결합하고, 새로운 컬럼 `features`를 생성한다."
   ]
  },
  {
   "cell_type": "code",
   "execution_count": 21,
   "metadata": {},
   "outputs": [
    {
     "name": "stdout",
     "output_type": "stream",
     "text": [
      "+-------------------------------------------------------------------------------------+-----+\n",
      "|features                                                                             |label|\n",
      "+-------------------------------------------------------------------------------------+-----+\n",
      "|(19,[6,7,8,15,16,17,18],[1.0,1.0,1.0,1.0,2.0,53.85,108.15])                          |1.0  |\n",
      "|(19,[0,16,17,18],[1.0,2.0,70.7,151.65])                                              |1.0  |\n",
      "|(19,[0,5,9,11,12,16,17,18],[1.0,1.0,1.0,1.0,1.0,8.0,99.65,820.5])                    |1.0  |\n",
      "|(19,[0,2,5,9,10,11,12,16,17,18],[1.0,1.0,1.0,1.0,1.0,1.0,1.0,28.0,104.8,3046.05])    |1.0  |\n",
      "|(19,[5,8,9,11,12,15,16,17,18],[1.0,1.0,1.0,1.0,1.0,2.0,49.0,103.7,5036.3])           |1.0  |\n",
      "|(19,[0,2,3,6,9,10,14,15,16,17,18],[1.0,1.0,1.0,1.0,1.0,1.0,1.0,3.0,10.0,55.2,528.35])|1.0  |\n",
      "|(19,[1,4,5,6,9,12,16,17,18],[1.0,1.0,2.0,1.0,1.0,1.0,1.0,39.65,39.65])               |1.0  |\n",
      "|[0.0,0.0,0.0,0.0,0.0,0.0,2.0,2.0,2.0,2.0,2.0,2.0,2.0,0.0,1.0,1.0,1.0,20.15,20.15]    |1.0  |\n",
      "|(19,[2,3,5,8,11,12,16,17,18],[1.0,1.0,1.0,1.0,1.0,1.0,47.0,99.35,4749.15])           |1.0  |\n",
      "|(19,[2,3,4,5,6,8,14,16,17,18],[1.0,1.0,1.0,2.0,1.0,1.0,1.0,1.0,30.2,30.2])           |1.0  |\n",
      "|(19,[0,3,6,11,12,15,16,17,18],[1.0,1.0,1.0,1.0,1.0,1.0,17.0,64.7,1093.1])            |1.0  |\n",
      "|(19,[16,17,18],[5.0,69.7,316.9])                                                     |1.0  |\n",
      "|(19,[5,8,9,11,12,16,17,18],[1.0,1.0,1.0,1.0,1.0,34.0,106.35,3549.25])                |1.0  |\n",
      "|(19,[0,5,9,11,12,15,16,17,18],[1.0,1.0,1.0,1.0,1.0,2.0,11.0,97.85,1105.4])           |1.0  |\n",
      "|(19,[0,11,16,17,18],[1.0,1.0,2.0,80.65,144.15])                                      |1.0  |\n",
      "|(19,[0,7,8,11,12,15,16,17,18],[1.0,1.0,1.0,1.0,1.0,3.0,15.0,99.1,1426.4])            |1.0  |\n",
      "|(19,[0,1,2,5,8,15,16,17,18],[1.0,1.0,1.0,1.0,1.0,3.0,8.0,80.65,633.3])               |1.0  |\n",
      "|(19,[1,5,11,12,16,17,18],[1.0,1.0,1.0,1.0,18.0,95.45,1752.55])                       |1.0  |\n",
      "|(19,[0,5,11,12,14,16,17,18],[1.0,1.0,1.0,1.0,1.0,9.0,94.4,857.25])                   |1.0  |\n",
      "|(19,[0,3,11,16,17,18],[1.0,1.0,1.0,1.0,79.35,79.35])                                 |1.0  |\n",
      "+-------------------------------------------------------------------------------------+-----+\n",
      "only showing top 20 rows\n",
      "\n"
     ]
    }
   ],
   "source": [
    "from pyspark.ml.feature import VectorAssembler\n",
    "\n",
    "numeric_cols = [\"tenure\", \"MonthlyCharges\", \"TotalCharges\"]\n",
    "input_features = [f\"{col}_index\" for col in categorical_cols] + numeric_cols\n",
    "\n",
    "assembler = VectorAssembler(\n",
    "    inputCols=input_features,\n",
    "    outputCol=\"features\"\n",
    ")\n",
    "\n",
    "df_final = assembler.transform(df_indexed)\n",
    "df_final.select(\"features\", \"label\").show(truncate=False)"
   ]
  },
  {
   "cell_type": "code",
   "execution_count": 22,
   "metadata": {},
   "outputs": [],
   "source": [
    "train_data, test_data = df_final.randomSplit([0.8, 0.2], seed=42)"
   ]
  },
  {
   "cell_type": "code",
   "execution_count": 23,
   "metadata": {},
   "outputs": [],
   "source": [
    "df_final_clean = df_final.na.drop()\n",
    "train_data, test_data = df_final_clean.randomSplit([0.8, 0.2], seed=42)"
   ]
  },
  {
   "cell_type": "code",
   "execution_count": 24,
   "metadata": {},
   "outputs": [],
   "source": [
    "# 1. 실제 모델 학습에 쓰이는 컬럼 전체 확인\n",
    "all_required_cols = input_features + [\"label\"]\n",
    "\n",
    "# 2. 이 컬럼들 중에 null 있는 행을 제거\n",
    "df_clean = df_final.select(all_required_cols).na.drop()\n",
    "\n",
    "# 3. 다시 학습/검증 데이터셋 나누기\n",
    "train_data, test_data = df_clean.randomSplit([0.8, 0.2], seed=42)\n"
   ]
  },
  {
   "cell_type": "markdown",
   "metadata": {},
   "source": [
    "## 특징 벡터 생성\n",
    "모델에 입력할 모든 feature를 하나의 벡터 컬럼으로 합친다. `VectorAssembler`를 사용하여 인코딩된 범주형 변수와 수치형 변수를 결합하고, 새로운 컬럼 `features`를 생성한다."
   ]
  },
  {
   "cell_type": "code",
   "execution_count": 25,
   "metadata": {},
   "outputs": [],
   "source": [
    "from pyspark.ml.feature import VectorAssembler\n",
    "\n",
    "assembler = VectorAssembler(\n",
    "    inputCols=input_features,\n",
    "    outputCol=\"features\",\n",
    "    handleInvalid=\"skip\"\n",
    ")\n",
    "\n",
    "df_clean_with_features = assembler.transform(df_clean)"
   ]
  },
  {
   "cell_type": "code",
   "execution_count": 26,
   "metadata": {},
   "outputs": [],
   "source": [
    "train_data, test_data = df_clean_with_features.randomSplit([0.8, 0.2], seed=42)"
   ]
  },
  {
   "cell_type": "markdown",
   "metadata": {},
   "source": [
    "## 로지스틱 회귀 모델 학습\n",
    "PySpark의 `LogisticRegression`을 사용하여 이진 분류 모델을 학습한다. `features` 벡터와 `label` 컬럼을 기반으로 학습이 수행된다."
   ]
  },
  {
   "cell_type": "code",
   "execution_count": 27,
   "metadata": {},
   "outputs": [],
   "source": [
    "from pyspark.ml.classification import LogisticRegression\n",
    "\n",
    "lr = LogisticRegression(featuresCol=\"features\", labelCol=\"label\")\n",
    "lr_model = lr.fit(train_data)"
   ]
  },
  {
   "cell_type": "code",
   "execution_count": 28,
   "metadata": {},
   "outputs": [
    {
     "name": "stdout",
     "output_type": "stream",
     "text": [
      "[0.02784971276426697,0.23125465340897627,-0.06636662137802642,-0.10896127357729232,-0.370754402683701,0.34400412650456247,-1.3920944747983632,-0.39304740360929824,-0.05554126486870058,-0.0129843712168413,-0.3794762683229241,0.39230200988510905,0.43784590975101667,-0.3466357063046602,-0.34711537381876584,-0.15608228514422726,-0.06195442356008396,-0.020699721477268236,0.00031667626178437055]\n",
      "2.4151869139491127\n"
     ]
    }
   ],
   "source": [
    "print(lr_model.coefficients)\n",
    "print(lr_model.intercept)"
   ]
  },
  {
   "cell_type": "code",
   "execution_count": 29,
   "metadata": {},
   "outputs": [
    {
     "name": "stdout",
     "output_type": "stream",
     "text": [
      "+-----+----------+----------------------------------------+\n",
      "|label|prediction|probability                             |\n",
      "+-----+----------+----------------------------------------+\n",
      "|1.0  |1.0       |[0.2809673483585061,0.7190326516414939] |\n",
      "|1.0  |1.0       |[0.2828241110119512,0.7171758889880488] |\n",
      "|0.0  |1.0       |[0.2832377327169767,0.7167622672830233] |\n",
      "|0.0  |1.0       |[0.2851035499875372,0.7148964500124628] |\n",
      "|1.0  |1.0       |[0.31769123507266217,0.6823087649273378]|\n",
      "|1.0  |1.0       |[0.35870192606958423,0.6412980739304157]|\n",
      "|0.0  |1.0       |[0.3322071279322613,0.6677928720677386] |\n",
      "|1.0  |1.0       |[0.39631410146961626,0.6036858985303837]|\n",
      "|1.0  |1.0       |[0.39867432057661784,0.6013256794233821]|\n",
      "|0.0  |1.0       |[0.40962285948344623,0.5903771405165538]|\n",
      "+-----+----------+----------------------------------------+\n",
      "only showing top 10 rows\n",
      "\n"
     ]
    }
   ],
   "source": [
    "predictions = lr_model.transform(test_data)\n",
    "predictions.select(\"label\", \"prediction\", \"probability\").show(10, truncate=False)"
   ]
  },
  {
   "cell_type": "markdown",
   "metadata": {},
   "source": [
    "## 모델 성능 평가\n",
    "테스트 데이터에 대한 예측 결과를 바탕으로 ROC AUC 점수를 계산한다. 이 점수는 모델의 분류 성능을 나타내며, 1에 가까울수록 성능이 좋음을 의미한다."
   ]
  },
  {
   "cell_type": "code",
   "execution_count": 30,
   "metadata": {},
   "outputs": [
    {
     "name": "stdout",
     "output_type": "stream",
     "text": [
      "📈 ROC AUC Score: 0.8426\n"
     ]
    }
   ],
   "source": [
    "from pyspark.ml.evaluation import BinaryClassificationEvaluator\n",
    "\n",
    "evaluator = BinaryClassificationEvaluator(labelCol=\"label\", rawPredictionCol=\"rawPrediction\", metricName=\"areaUnderROC\")\n",
    "auc = evaluator.evaluate(predictions)\n",
    "\n",
    "print(f\"ROC AUC Score: {auc:.4f}\")"
   ]
  },
  {
   "cell_type": "code",
   "execution_count": 31,
   "metadata": {},
   "outputs": [],
   "source": [
    "# lr_model.save(\"churn_logistic_model\")"
   ]
  },
  {
   "cell_type": "markdown",
   "metadata": {},
   "source": [
    "## 인사이트 도출\n",
    "Churn 여부에 따라 주요 범주형 변수의 분포를 비교한다."
   ]
  },
  {
   "cell_type": "code",
   "execution_count": 33,
   "metadata": {},
   "outputs": [],
   "source": [
    "from pyspark.sql.functions import count, when, col, round\n",
    "\n",
    "def show_churn_rate_by(df, colname):\n",
    "    df = df.withColumn(\"label\", when(col(\"Churn\") == \"Yes\", 1).otherwise(0))\n",
    "\n",
    "    result = (\n",
    "        df.groupBy(colname)\n",
    "        .agg(\n",
    "            count(\"*\").alias(\"total\"),\n",
    "            count(when(col(\"label\") == 1, True)).alias(\"churned\")\n",
    "        )\n",
    "        .withColumn(\"churn_rate(%)\", round(col(\"churned\") / col(\"total\") * 100, 2))\n",
    "        .orderBy(\"churn_rate(%)\", ascending=False)\n",
    "    )\n",
    "    result.show(truncate=False)\n"
   ]
  },
  {
   "cell_type": "code",
   "execution_count": 34,
   "metadata": {},
   "outputs": [
    {
     "name": "stdout",
     "output_type": "stream",
     "text": [
      "+--------------+-----+-------+-------------+\n",
      "|Contract      |total|churned|churn_rate(%)|\n",
      "+--------------+-----+-------+-------------+\n",
      "|Month-to-month|3875 |1655   |42.71        |\n",
      "|One year      |1473 |166    |11.27        |\n",
      "|Two year      |1695 |48     |2.83         |\n",
      "+--------------+-----+-------+-------------+\n",
      "\n",
      "+---------------+-----+-------+-------------+\n",
      "|InternetService|total|churned|churn_rate(%)|\n",
      "+---------------+-----+-------+-------------+\n",
      "|Fiber optic    |3096 |1297   |41.89        |\n",
      "|DSL            |2421 |459    |18.96        |\n",
      "|No             |1526 |113    |7.4          |\n",
      "+---------------+-----+-------+-------------+\n",
      "\n",
      "+-------------------+-----+-------+-------------+\n",
      "|TechSupport        |total|churned|churn_rate(%)|\n",
      "+-------------------+-----+-------+-------------+\n",
      "|No                 |3473 |1446   |41.64        |\n",
      "|Yes                |2044 |310    |15.17        |\n",
      "|No internet service|1526 |113    |7.4          |\n",
      "+-------------------+-----+-------+-------------+\n",
      "\n",
      "+-------------------------+-----+-------+-------------+\n",
      "|PaymentMethod            |total|churned|churn_rate(%)|\n",
      "+-------------------------+-----+-------+-------------+\n",
      "|Electronic check         |2365 |1071   |45.29        |\n",
      "|Mailed check             |1612 |308    |19.11        |\n",
      "|Bank transfer (automatic)|1544 |258    |16.71        |\n",
      "|Credit card (automatic)  |1522 |232    |15.24        |\n",
      "+-------------------------+-----+-------+-------------+\n",
      "\n"
     ]
    }
   ],
   "source": [
    "show_churn_rate_by(df, \"Contract\")\n",
    "show_churn_rate_by(df, \"InternetService\")\n",
    "show_churn_rate_by(df, \"TechSupport\")\n",
    "show_churn_rate_by(df, \"PaymentMethod\")"
   ]
  },
  {
   "cell_type": "code",
   "execution_count": 37,
   "metadata": {},
   "outputs": [],
   "source": [
    "import pandas as pd\n",
    "import seaborn as sns\n",
    "import matplotlib.pyplot as plt\n",
    "\n",
    "def plot_churn_rate(df, colname):\n",
    "    df = df.withColumn(\"label\", when(col(\"Churn\") == \"Yes\", 1).otherwise(0))\n",
    "\n",
    "    churn_df = (\n",
    "        df.groupBy(colname)\n",
    "        .agg(\n",
    "            count(\"*\").alias(\"total\"),\n",
    "            count(when(col(\"label\") == 1, True)).alias(\"churned\")\n",
    "        )\n",
    "        .withColumn(\"churn_rate(%)\", round(col(\"churned\") / col(\"total\") * 100, 2))\n",
    "        .orderBy(\"churn_rate(%)\", ascending=False)\n",
    "    )\n",
    "\n",
    "    # Pandas 변환\n",
    "    pdf = churn_df.toPandas()\n",
    "\n",
    "    # 시각화\n",
    "    plt.figure(figsize=(8, 5))\n",
    "    sns.barplot(data=pdf, x=\"churn_rate(%)\", y=colname, hue=colname, palette=\"viridis\")\n",
    "    plt.title(f\"Churn Rate by {colname}\")\n",
    "    plt.xlabel(\"Churn Rate (%)\")\n",
    "    plt.ylabel(colname)\n",
    "    plt.tight_layout()\n",
    "    plt.show()"
   ]
  },
  {
   "cell_type": "code",
   "execution_count": 38,
   "metadata": {},
   "outputs": [
    {
     "data": {
      "image/png": "[encoded data removed]",
      "text/plain": [
       "<Figure size 800x500 with 1 Axes>"
      ]
     },
     "metadata": {},
     "output_type": "display_data"
    },
    {
     "data": {
      "image/png": "[encoded data removed]",
      "text/plain": [
       "<Figure size 800x500 with 1 Axes>"
      ]
     },
     "metadata": {},
     "output_type": "display_data"
    },
    {
     "data": {
      "image/png": "[encoded data removed]",
      "text/plain": [
       "<Figure size 800x500 with 1 Axes>"
      ]
     },
     "metadata": {},
     "output_type": "display_data"
    }
   ],
   "source": [
    "plot_churn_rate(df, \"Contract\")\n",
    "plot_churn_rate(df, \"TechSupport\")\n",
    "plot_churn_rate(df, \"PaymentMethod\")"
   ]
  },
  {
   "cell_type": "markdown",
   "metadata": {},
   "source": [
    "### 1. 계약 유형에 따른 이탈률\n",
    "- **Month-to-month 계약 고객의 이탈률이 매우 높음 (약 43%)**\n",
    "- 장기 계약 고객(One year, Two year)은 상대적으로 안정적인 고객층\n",
    "\n",
    "### 2. 인터넷 서비스 유형\n",
    "- **Fiber optic 이용 고객의 이탈률이 높음**\n",
    "- `No` 인터넷 서비스 고객은 이탈률이 매우 낮음 → 기본적으로 충성도가 높거나, 고령/비활성 계정일 수 있음\n",
    "\n",
    "### 3. 기술 지원 및 보안 서비스\n",
    "- **Tech Support와 Online Security를 사용하는 고객의 이탈률이 낮음**\n",
    "- 부가 서비스를 사용하는 고객은 서비스에 대한 만족도가 높은 경향\n",
    "\n",
    "### 4. 요금 정보\n",
    "- 평균 요금이 높고, 총 이용 기간이 짧을수록 이탈 확률이 높음\n",
    "\n",
    "<br>\n",
    "\n",
    "## Summary\n",
    "\n",
    "아래와 같은 고객 이탈의 주요 패턴을 확인할 수 있다.\n",
    "\n",
    "- 단기 계약과 높은 요금은 이탈과 연관이 높다\n",
    "- 보안 및 기술 지원 같은 부가 서비스 이용 여부도 중요한 변수\n",
    "- 데이터 기반 타겟 마케팅(예: 혜택 제공, 장기 계약 유도)을 위한 기준 마련 가능\n",
    "\n"
   ]
  }
 ],
 "metadata": {
  "kernelspec": {
   "display_name": "Python 3 (ipykernel)",
   "language": "python",
   "name": "python3"
  },
  "language_info": {
   "codemirror_mode": {
    "name": "ipython",
    "version": 3
   },
   "file_extension": ".py",
   "mimetype": "text/x-python",
   "name": "python",
   "nbconvert_exporter": "python",
   "pygments_lexer": "ipython3",
   "version": "3.11.6"
  }
 },
 "nbformat": 4,
 "nbformat_minor": 4
}
